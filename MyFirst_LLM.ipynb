{
  "nbformat": 4,
  "nbformat_minor": 0,
  "metadata": {
    "colab": {
      "provenance": [],
      "authorship_tag": "ABX9TyMTldHD3j9PbYOYgE8uUEgb",
      "include_colab_link": true
    },
    "kernelspec": {
      "name": "python3",
      "display_name": "Python 3"
    },
    "language_info": {
      "name": "python"
    }
  },
  "cells": [
    {
      "cell_type": "markdown",
      "metadata": {
        "id": "view-in-github",
        "colab_type": "text"
      },
      "source": [
        "<a href=\"https://colab.research.google.com/github/miles0day/My_First_LLM1.0/blob/main/MyFirst_LLM.ipynb\" target=\"_parent\"><img src=\"https://colab.research.google.com/assets/colab-badge.svg\" alt=\"Open In Colab\"/></a>"
      ]
    },
    {
      "cell_type": "code",
      "execution_count": 5,
      "metadata": {
        "colab": {
          "base_uri": "https://localhost:8080/",
          "height": 139
        },
        "id": "k70NzPZtgkOY",
        "outputId": "f5e3f32a-a90c-4aaa-bd5a-5ce347dc214b"
      },
      "outputs": [
        {
          "output_type": "stream",
          "name": "stdout",
          "text": [
            "Conversa iniciada. Digite 'fim' para encerrar.\n",
            "Você: OI\n",
            "Resposta:  Olá! Como posso ajudá-lo hoje?\n",
            "Você: FIMMMMMMMMMMMMMMM\n",
            "Resposta:  Sinto muito, mas não entendo.\n",
            "Você: FIM\n",
            "Conversa encerrada.\n"
          ]
        }
      ],
      "source": [
        "import google.generativeai as genai\n",
        "from google.colab import userdata\n",
        "api_key = userdata.get('SECRET_KEY')\n",
        "\n",
        "\n",
        "genai.configure(api_key=api_key)\n",
        "\n",
        "# Inicializando o modelo\n",
        "model = genai.GenerativeModel(model_name=\"gemini-1.0-pro\")\n",
        "\n",
        "chat = model.start_chat(history=[])\n",
        "\n",
        "print(\"Conversa iniciada. Digite 'fim' para encerrar.\")\n",
        "\n",
        "while True:\n",
        "    prompt = input(\"Você: \")\n",
        "\n",
        "    if prompt.lower() == \"fim\":\n",
        "        print(\"Conversa encerrada.\")\n",
        "        break\n",
        "\n",
        "    response = chat.send_message(prompt)\n",
        "    print(\"Resposta: \", response.text)\n"
      ]
    }
  ]
}